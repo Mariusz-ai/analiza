{
 "cells": [
  {
   "cell_type": "code",
   "execution_count": 1,
   "id": "11e33bf3-d1bc-4ed6-a374-04b3c3430784",
   "metadata": {},
   "outputs": [],
   "source": [
    "import pandas as pd\n",
    "import seaborn as sns\n",
    "import matplotlib.pyplot as plt"
   ]
  },
  {
   "cell_type": "markdown",
   "id": "820ab191-0f04-441e-ace0-cd43822a153f",
   "metadata": {},
   "source": [
    "### Wczytanie pliku csv"
   ]
  },
  {
   "cell_type": "code",
   "execution_count": 2,
   "id": "3fa7affe-987f-4470-82e9-c0bc74da0afc",
   "metadata": {},
   "outputs": [
    {
     "ename": "FileNotFoundError",
     "evalue": "[Errno 2] No such file or directory: 'xxxxxx.csv'",
     "output_type": "error",
     "traceback": [
      "\u001b[1;31m---------------------------------------------------------------------------\u001b[0m",
      "\u001b[1;31mFileNotFoundError\u001b[0m                         Traceback (most recent call last)",
      "Cell \u001b[1;32mIn[2], line 1\u001b[0m\n\u001b[1;32m----> 1\u001b[0m df \u001b[38;5;241m=\u001b[39m pd\u001b[38;5;241m.\u001b[39mread_csv(\u001b[38;5;124m'\u001b[39m\u001b[38;5;124mxxxxxx.csv\u001b[39m\u001b[38;5;124m'\u001b[39m, sep\u001b[38;5;241m=\u001b[39m\u001b[38;5;124m'\u001b[39m\u001b[38;5;124m,\u001b[39m\u001b[38;5;124m'\u001b[39m)\n",
      "File \u001b[1;32m~\\miniconda3\\envs\\od_zera_do_ai\\Lib\\site-packages\\pandas\\io\\parsers\\readers.py:1026\u001b[0m, in \u001b[0;36mread_csv\u001b[1;34m(filepath_or_buffer, sep, delimiter, header, names, index_col, usecols, dtype, engine, converters, true_values, false_values, skipinitialspace, skiprows, skipfooter, nrows, na_values, keep_default_na, na_filter, verbose, skip_blank_lines, parse_dates, infer_datetime_format, keep_date_col, date_parser, date_format, dayfirst, cache_dates, iterator, chunksize, compression, thousands, decimal, lineterminator, quotechar, quoting, doublequote, escapechar, comment, encoding, encoding_errors, dialect, on_bad_lines, delim_whitespace, low_memory, memory_map, float_precision, storage_options, dtype_backend)\u001b[0m\n\u001b[0;32m   1013\u001b[0m kwds_defaults \u001b[38;5;241m=\u001b[39m _refine_defaults_read(\n\u001b[0;32m   1014\u001b[0m     dialect,\n\u001b[0;32m   1015\u001b[0m     delimiter,\n\u001b[1;32m   (...)\u001b[0m\n\u001b[0;32m   1022\u001b[0m     dtype_backend\u001b[38;5;241m=\u001b[39mdtype_backend,\n\u001b[0;32m   1023\u001b[0m )\n\u001b[0;32m   1024\u001b[0m kwds\u001b[38;5;241m.\u001b[39mupdate(kwds_defaults)\n\u001b[1;32m-> 1026\u001b[0m \u001b[38;5;28;01mreturn\u001b[39;00m _read(filepath_or_buffer, kwds)\n",
      "File \u001b[1;32m~\\miniconda3\\envs\\od_zera_do_ai\\Lib\\site-packages\\pandas\\io\\parsers\\readers.py:620\u001b[0m, in \u001b[0;36m_read\u001b[1;34m(filepath_or_buffer, kwds)\u001b[0m\n\u001b[0;32m    617\u001b[0m _validate_names(kwds\u001b[38;5;241m.\u001b[39mget(\u001b[38;5;124m\"\u001b[39m\u001b[38;5;124mnames\u001b[39m\u001b[38;5;124m\"\u001b[39m, \u001b[38;5;28;01mNone\u001b[39;00m))\n\u001b[0;32m    619\u001b[0m \u001b[38;5;66;03m# Create the parser.\u001b[39;00m\n\u001b[1;32m--> 620\u001b[0m parser \u001b[38;5;241m=\u001b[39m TextFileReader(filepath_or_buffer, \u001b[38;5;241m*\u001b[39m\u001b[38;5;241m*\u001b[39mkwds)\n\u001b[0;32m    622\u001b[0m \u001b[38;5;28;01mif\u001b[39;00m chunksize \u001b[38;5;129;01mor\u001b[39;00m iterator:\n\u001b[0;32m    623\u001b[0m     \u001b[38;5;28;01mreturn\u001b[39;00m parser\n",
      "File \u001b[1;32m~\\miniconda3\\envs\\od_zera_do_ai\\Lib\\site-packages\\pandas\\io\\parsers\\readers.py:1620\u001b[0m, in \u001b[0;36mTextFileReader.__init__\u001b[1;34m(self, f, engine, **kwds)\u001b[0m\n\u001b[0;32m   1617\u001b[0m     \u001b[38;5;28mself\u001b[39m\u001b[38;5;241m.\u001b[39moptions[\u001b[38;5;124m\"\u001b[39m\u001b[38;5;124mhas_index_names\u001b[39m\u001b[38;5;124m\"\u001b[39m] \u001b[38;5;241m=\u001b[39m kwds[\u001b[38;5;124m\"\u001b[39m\u001b[38;5;124mhas_index_names\u001b[39m\u001b[38;5;124m\"\u001b[39m]\n\u001b[0;32m   1619\u001b[0m \u001b[38;5;28mself\u001b[39m\u001b[38;5;241m.\u001b[39mhandles: IOHandles \u001b[38;5;241m|\u001b[39m \u001b[38;5;28;01mNone\u001b[39;00m \u001b[38;5;241m=\u001b[39m \u001b[38;5;28;01mNone\u001b[39;00m\n\u001b[1;32m-> 1620\u001b[0m \u001b[38;5;28mself\u001b[39m\u001b[38;5;241m.\u001b[39m_engine \u001b[38;5;241m=\u001b[39m \u001b[38;5;28mself\u001b[39m\u001b[38;5;241m.\u001b[39m_make_engine(f, \u001b[38;5;28mself\u001b[39m\u001b[38;5;241m.\u001b[39mengine)\n",
      "File \u001b[1;32m~\\miniconda3\\envs\\od_zera_do_ai\\Lib\\site-packages\\pandas\\io\\parsers\\readers.py:1880\u001b[0m, in \u001b[0;36mTextFileReader._make_engine\u001b[1;34m(self, f, engine)\u001b[0m\n\u001b[0;32m   1878\u001b[0m     \u001b[38;5;28;01mif\u001b[39;00m \u001b[38;5;124m\"\u001b[39m\u001b[38;5;124mb\u001b[39m\u001b[38;5;124m\"\u001b[39m \u001b[38;5;129;01mnot\u001b[39;00m \u001b[38;5;129;01min\u001b[39;00m mode:\n\u001b[0;32m   1879\u001b[0m         mode \u001b[38;5;241m+\u001b[39m\u001b[38;5;241m=\u001b[39m \u001b[38;5;124m\"\u001b[39m\u001b[38;5;124mb\u001b[39m\u001b[38;5;124m\"\u001b[39m\n\u001b[1;32m-> 1880\u001b[0m \u001b[38;5;28mself\u001b[39m\u001b[38;5;241m.\u001b[39mhandles \u001b[38;5;241m=\u001b[39m get_handle(\n\u001b[0;32m   1881\u001b[0m     f,\n\u001b[0;32m   1882\u001b[0m     mode,\n\u001b[0;32m   1883\u001b[0m     encoding\u001b[38;5;241m=\u001b[39m\u001b[38;5;28mself\u001b[39m\u001b[38;5;241m.\u001b[39moptions\u001b[38;5;241m.\u001b[39mget(\u001b[38;5;124m\"\u001b[39m\u001b[38;5;124mencoding\u001b[39m\u001b[38;5;124m\"\u001b[39m, \u001b[38;5;28;01mNone\u001b[39;00m),\n\u001b[0;32m   1884\u001b[0m     compression\u001b[38;5;241m=\u001b[39m\u001b[38;5;28mself\u001b[39m\u001b[38;5;241m.\u001b[39moptions\u001b[38;5;241m.\u001b[39mget(\u001b[38;5;124m\"\u001b[39m\u001b[38;5;124mcompression\u001b[39m\u001b[38;5;124m\"\u001b[39m, \u001b[38;5;28;01mNone\u001b[39;00m),\n\u001b[0;32m   1885\u001b[0m     memory_map\u001b[38;5;241m=\u001b[39m\u001b[38;5;28mself\u001b[39m\u001b[38;5;241m.\u001b[39moptions\u001b[38;5;241m.\u001b[39mget(\u001b[38;5;124m\"\u001b[39m\u001b[38;5;124mmemory_map\u001b[39m\u001b[38;5;124m\"\u001b[39m, \u001b[38;5;28;01mFalse\u001b[39;00m),\n\u001b[0;32m   1886\u001b[0m     is_text\u001b[38;5;241m=\u001b[39mis_text,\n\u001b[0;32m   1887\u001b[0m     errors\u001b[38;5;241m=\u001b[39m\u001b[38;5;28mself\u001b[39m\u001b[38;5;241m.\u001b[39moptions\u001b[38;5;241m.\u001b[39mget(\u001b[38;5;124m\"\u001b[39m\u001b[38;5;124mencoding_errors\u001b[39m\u001b[38;5;124m\"\u001b[39m, \u001b[38;5;124m\"\u001b[39m\u001b[38;5;124mstrict\u001b[39m\u001b[38;5;124m\"\u001b[39m),\n\u001b[0;32m   1888\u001b[0m     storage_options\u001b[38;5;241m=\u001b[39m\u001b[38;5;28mself\u001b[39m\u001b[38;5;241m.\u001b[39moptions\u001b[38;5;241m.\u001b[39mget(\u001b[38;5;124m\"\u001b[39m\u001b[38;5;124mstorage_options\u001b[39m\u001b[38;5;124m\"\u001b[39m, \u001b[38;5;28;01mNone\u001b[39;00m),\n\u001b[0;32m   1889\u001b[0m )\n\u001b[0;32m   1890\u001b[0m \u001b[38;5;28;01massert\u001b[39;00m \u001b[38;5;28mself\u001b[39m\u001b[38;5;241m.\u001b[39mhandles \u001b[38;5;129;01mis\u001b[39;00m \u001b[38;5;129;01mnot\u001b[39;00m \u001b[38;5;28;01mNone\u001b[39;00m\n\u001b[0;32m   1891\u001b[0m f \u001b[38;5;241m=\u001b[39m \u001b[38;5;28mself\u001b[39m\u001b[38;5;241m.\u001b[39mhandles\u001b[38;5;241m.\u001b[39mhandle\n",
      "File \u001b[1;32m~\\miniconda3\\envs\\od_zera_do_ai\\Lib\\site-packages\\pandas\\io\\common.py:873\u001b[0m, in \u001b[0;36mget_handle\u001b[1;34m(path_or_buf, mode, encoding, compression, memory_map, is_text, errors, storage_options)\u001b[0m\n\u001b[0;32m    868\u001b[0m \u001b[38;5;28;01melif\u001b[39;00m \u001b[38;5;28misinstance\u001b[39m(handle, \u001b[38;5;28mstr\u001b[39m):\n\u001b[0;32m    869\u001b[0m     \u001b[38;5;66;03m# Check whether the filename is to be opened in binary mode.\u001b[39;00m\n\u001b[0;32m    870\u001b[0m     \u001b[38;5;66;03m# Binary mode does not support 'encoding' and 'newline'.\u001b[39;00m\n\u001b[0;32m    871\u001b[0m     \u001b[38;5;28;01mif\u001b[39;00m ioargs\u001b[38;5;241m.\u001b[39mencoding \u001b[38;5;129;01mand\u001b[39;00m \u001b[38;5;124m\"\u001b[39m\u001b[38;5;124mb\u001b[39m\u001b[38;5;124m\"\u001b[39m \u001b[38;5;129;01mnot\u001b[39;00m \u001b[38;5;129;01min\u001b[39;00m ioargs\u001b[38;5;241m.\u001b[39mmode:\n\u001b[0;32m    872\u001b[0m         \u001b[38;5;66;03m# Encoding\u001b[39;00m\n\u001b[1;32m--> 873\u001b[0m         handle \u001b[38;5;241m=\u001b[39m \u001b[38;5;28mopen\u001b[39m(\n\u001b[0;32m    874\u001b[0m             handle,\n\u001b[0;32m    875\u001b[0m             ioargs\u001b[38;5;241m.\u001b[39mmode,\n\u001b[0;32m    876\u001b[0m             encoding\u001b[38;5;241m=\u001b[39mioargs\u001b[38;5;241m.\u001b[39mencoding,\n\u001b[0;32m    877\u001b[0m             errors\u001b[38;5;241m=\u001b[39merrors,\n\u001b[0;32m    878\u001b[0m             newline\u001b[38;5;241m=\u001b[39m\u001b[38;5;124m\"\u001b[39m\u001b[38;5;124m\"\u001b[39m,\n\u001b[0;32m    879\u001b[0m         )\n\u001b[0;32m    880\u001b[0m     \u001b[38;5;28;01melse\u001b[39;00m:\n\u001b[0;32m    881\u001b[0m         \u001b[38;5;66;03m# Binary mode\u001b[39;00m\n\u001b[0;32m    882\u001b[0m         handle \u001b[38;5;241m=\u001b[39m \u001b[38;5;28mopen\u001b[39m(handle, ioargs\u001b[38;5;241m.\u001b[39mmode)\n",
      "\u001b[1;31mFileNotFoundError\u001b[0m: [Errno 2] No such file or directory: 'xxxxxx.csv'"
     ]
    }
   ],
   "source": [
    "df = pd.read_csv('xxxxxx.csv', sep=',')"
   ]
  },
  {
   "cell_type": "markdown",
   "id": "9d94af91-8ff2-4d1e-9aae-dc36ab5d9cac",
   "metadata": {},
   "source": [
    "# 1. Ogólny przegląd danych."
   ]
  },
  {
   "cell_type": "markdown",
   "id": "ca026790-ea0d-44f7-ad48-571c0f46f6c7",
   "metadata": {},
   "source": [
    "## 1.1. Dziesięć losowych rekordów."
   ]
  },
  {
   "cell_type": "code",
   "execution_count": null,
   "id": "f3cdae88-9134-49eb-86a8-8c1e419c0b7b",
   "metadata": {},
   "outputs": [],
   "source": [
    "df.sample(10)"
   ]
  },
  {
   "cell_type": "markdown",
   "id": "cb0b3abf-8411-43c7-8ae8-99f05b9da18e",
   "metadata": {},
   "source": [
    "## 1.2. Ile każda kolumna ma wartości unikatowych."
   ]
  },
  {
   "cell_type": "code",
   "execution_count": null,
   "id": "f3cdfcdb-5e78-4c36-ac65-d8ebb8ef446b",
   "metadata": {},
   "outputs": [],
   "source": [
    "df.nunique()"
   ]
  },
  {
   "cell_type": "markdown",
   "id": "21dfa464-e506-4257-80bd-d0fd89e60a17",
   "metadata": {},
   "source": [
    "## 1.3. Podsumowanie każdej kolumny numerycznej."
   ]
  },
  {
   "cell_type": "code",
   "execution_count": null,
   "id": "f8864c8b-b3c9-4f47-9614-93b51de412dd",
   "metadata": {},
   "outputs": [],
   "source": [
    "df.describe()"
   ]
  },
  {
   "cell_type": "markdown",
   "id": "4e63d2f8-a4b1-4bd6-8146-80a1569c49a3",
   "metadata": {},
   "source": [
    "# 2. Analiza brakujących wartości."
   ]
  },
  {
   "cell_type": "markdown",
   "id": "915c5657-0142-483e-b01a-77d286b893c9",
   "metadata": {},
   "source": [
    "## 2.1. Ile każda kolumna ma brakujących wartości?"
   ]
  },
  {
   "cell_type": "code",
   "execution_count": null,
   "id": "62ff8bac-b9a4-43e7-a3f2-72757f55cb0e",
   "metadata": {},
   "outputs": [],
   "source": [
    "df.isnull().sum()"
   ]
  },
  {
   "cell_type": "code",
   "execution_count": null,
   "id": "f6f5787e-962b-4df3-a0ac-c1b4432fb06a",
   "metadata": {},
   "outputs": [],
   "source": [
    "df.info()"
   ]
  },
  {
   "cell_type": "markdown",
   "id": "6e04de74-9ff1-43c1-8817-2d5165c7724a",
   "metadata": {},
   "source": [
    "# 3. Analiza pojedynczych zmiennych - eksploracja poszczególnych kolumn."
   ]
  },
  {
   "cell_type": "markdown",
   "id": "37884bda-3151-4a0f-a7b2-49f0a5bcb0b7",
   "metadata": {},
   "source": [
    "## 3.1. Histogramy dla wszystkich kolumn numerycznych."
   ]
  },
  {
   "cell_type": "markdown",
   "id": "67493ce4-0cad-4398-8cba-24d887f673ea",
   "metadata": {},
   "source": [
    "##### **WNIOSKI:**funtów"
   ]
  },
  {
   "cell_type": "markdown",
   "id": "853827dd-88dc-4bbe-b2c0-ebc7f0121775",
   "metadata": {},
   "source": [
    "## 3.3 Szukanie duplikatów."
   ]
  },
  {
   "cell_type": "code",
   "execution_count": null,
   "id": "2713ca6c-718f-454d-8b2b-31d99f2714eb",
   "metadata": {},
   "outputs": [],
   "source": [
    "df[df.duplicated()]"
   ]
  },
  {
   "cell_type": "markdown",
   "id": "1b2e3f55-959c-47b9-b0ce-67920cb95809",
   "metadata": {},
   "source": [
    "# 4. Transformacja danych i naprawa błędów"
   ]
  },
  {
   "cell_type": "markdown",
   "id": "fd62f465-d164-4283-b662-f4097b6ae081",
   "metadata": {},
   "source": [
    "## 4.1. Uzupełnianie danych."
   ]
  },
  {
   "cell_type": "code",
   "execution_count": null,
   "id": "0b434178-0e50-4b9a-ac43-dd6e1ce19ad3",
   "metadata": {},
   "outputs": [],
   "source": [
    "# usunięcie brakujących wierszy w survived \n",
    "df=df.dropna(subset=[\"survived\"])"
   ]
  },
  {
   "cell_type": "code",
   "execution_count": null,
   "id": "1fb48989-0852-4ba4-8a65-04c9813340d1",
   "metadata": {},
   "outputs": [],
   "source": [
    "# W pclass brakuje 1 wartości wstawaimy 3\n",
    "df['pclass'].fillna(3, inplace=True)"
   ]
  },
  {
   "cell_type": "code",
   "execution_count": null,
   "id": "8e0310b5-a9d4-4e7c-b897-22c1b181161a",
   "metadata": {},
   "outputs": [],
   "source": [
    "# Uzupełnienie brakujących wartości Ceny biletu medianą\n",
    "df['fare'].fillna(df['fare'].median(), inplace=True)"
   ]
  },
  {
   "cell_type": "code",
   "execution_count": null,
   "id": "a520d008-3cdd-4f16-bfc9-dc858ad5dfd5",
   "metadata": {},
   "outputs": [],
   "source": [
    "# Uzupełnienie brakujących wartości wieku medianą\n",
    "df['age'].fillna(df['age'].median(), inplace=True)"
   ]
  },
  {
   "cell_type": "code",
   "execution_count": null,
   "id": "f83eae6e-49e5-4a08-ae60-9be5cb3a6bd1",
   "metadata": {},
   "outputs": [],
   "source": [
    "# Uzupełnienie brakujących wartości w kolumnie Port, w którym pasażer wszedł na pokład (C = Cherbourg, Q = Queenstown, S = Southampton) wartością S\n",
    "df['embarked'].fillna('S', inplace=True)"
   ]
  },
  {
   "cell_type": "code",
   "execution_count": null,
   "id": "3c7a342c-80ed-4e74-b710-903a7419704b",
   "metadata": {},
   "outputs": [],
   "source": [
    "df.isnull().sum()"
   ]
  },
  {
   "cell_type": "markdown",
   "id": "7cb7a1e9-e5fc-4ab9-94ea-11c91866fc4a",
   "metadata": {},
   "source": [
    "##### **Podsunowanie:**kład"
   ]
  },
  {
   "cell_type": "markdown",
   "id": "44914101-883f-4bd1-b012-d09294f42770",
   "metadata": {},
   "source": [
    "# 5. Analiza relacji między kolumnami"
   ]
  },
  {
   "cell_type": "markdown",
   "id": "a6b4580d-23ea-4b4a-96c2-f3d8efd7dbc7",
   "metadata": {},
   "source": [
    "## 5.1. Macierz korelacjii."
   ]
  },
  {
   "cell_type": "markdown",
   "id": "dd24f1fc-42c3-444d-b079-4e858459dfae",
   "metadata": {},
   "source": [
    "##### **Korelacja występuje pomiedzy:**"
   ]
  },
  {
   "cell_type": "markdown",
   "id": "84ebb131-05eb-4128-9328-d367aec7b13f",
   "metadata": {},
   "source": [
    "## 5.2. Borplot"
   ]
  },
  {
   "cell_type": "markdown",
   "id": "d46e000b-1cfd-4455-b682-5543c72ad18f",
   "metadata": {},
   "source": [
    "##### **WNIOSKI:**"
   ]
  },
  {
   "cell_type": "markdown",
   "id": "bf709495-23a9-40f4-8e38-dcda128a4a8f",
   "metadata": {},
   "source": [
    "## 5.3. Barplot c.d."
   ]
  },
  {
   "cell_type": "markdown",
   "id": "d9b85229-86e0-4d12-b0e7-9548d62d2639",
   "metadata": {},
   "source": [
    "##### **WNIOSKI:** 60%\r\n"
   ]
  },
  {
   "cell_type": "markdown",
   "id": "5c3c0aae-bf70-40ef-89a9-48e5bdcfbe00",
   "metadata": {},
   "source": [
    "# 6. Analiza wartości odstających \"outliers\""
   ]
  },
  {
   "cell_type": "markdown",
   "id": "63624f06-4f31-4935-afcd-38af8a503e2c",
   "metadata": {},
   "source": [
    "## 6.1. Wykres boxplot dla kolumn numerycznych."
   ]
  },
  {
   "cell_type": "markdown",
   "id": "aed9f0cd-5b92-4115-b619-a3135de400a1",
   "metadata": {},
   "source": [
    "##### **WNIOSKI:**"
   ]
  },
  {
   "cell_type": "markdown",
   "id": "c3288185-f4be-4a61-8898-9bef101b7fb2",
   "metadata": {},
   "source": [
    "## Podsumowanie:"
   ]
  },
  {
   "cell_type": "markdown",
   "id": "ce60458c-5d55-4767-9582-905f2c8bd538",
   "metadata": {},
   "source": [
    "# Przykładowa analiza poziom szcześcia"
   ]
  },
  {
   "cell_type": "markdown",
   "id": "151101fa-3584-4965-b5e3-4ab3c54b03a1",
   "metadata": {},
   "source": [
    "Krok 1: Ogólny przegląd danych - zrozumienie danych, jak były zbierane, co oznaczają kolumny i wartości\n",
    "1. Pokaż 10 losowych rekordów\n",
    "2. Pokaż ile każda kolumna ma wartości unikatowych\n",
    "3. Pokaż podsumowanie każdej kolumny numerycznej\n",
    "4. Pokaż ile krajów przypada na dany rok\n",
    "\n",
    "Krok 2: Analiza brakujących wartości\n",
    "5. Pokaż ile każda kolumna ma brakujących wartości oraz ile to stanowi procentowo\n",
    "\n",
    "Krok 3: Analiza pojedynczych zmiennych - eksploracja poszczególnych kolumn\n",
    "6. Narysuj histogram dla indeksu szcześcia\n",
    "7. Narysuj histogram dla wszystkich kolumn numerycznych, chcę jeden plik, trzy wykresy w rzędzie, dodaj kde\n",
    "\n",
    "Krok 4 – Transformacja danych i naprawa błędów\n",
    "8. Zastąp brakujące wartości średnią kde\n",
    "\n",
    "Krok 5 – Analiza relacji między kolumnami\n",
    "9. Narysuj scatter plot dla kolumn 'Happiness Score', 'GDP'\n",
    "10. Narysuj macierz korelacji dla kolumn, pomiń kolumnę z rokiem\n",
    "\n",
    "Krok 6 – Analiza wartości odstających \"outliers\"\n",
    "11. Narysuj boxplot dla kolumny 'Life Expectancy', 'Happiness Score'\n",
    "\n",
    "Przykładowa analiza Bieg\n",
    "\n",
    "Krok 1: Ogólny przegląd danych - zrozumienie danych, jak były zbierane, co oznaczają kolumny i wartości\n",
    "1. Pokaż 10 losowych rekordów\n",
    "2. Pokaż ile każda kolumna ma wartości unikatowych\n",
    "3. Pokaż podsumowanie każdej kolumny numerycznej   ). T - obróci tabele\n",
    "\n",
    "Krok 2: Analiza brakujących wartości\n",
    "4. Pokaż ile każda kolumna ma brakujących wartości oraz ile to stanowi procentowo\n",
    "\n",
    "Krok 3: Analiza pojedynczych zmiennych - eksploracja poszczególnych kolumn\n",
    "5. Narysuj nałożone na siebie histogramy tylko linię kde dla wszystkich kolumn z Tempo, dodaj kolorowanie lini Tempo\n",
    "6. Narysuj histogram dla 'Tempo Stabilność'\n",
    "7. Narysuj barplot dla 'Kraj' według najczęściej występujących, pomiń Polskę\n",
    "8. Narysuj barplot dla 'Kategoria wiekowa', posortuj według najczęściej występujących, dodatkowo podziel na mężczyzn i kobiety\n",
    "9. Narysuj barplot dla 'Rocznik', dodatkowo podziel na mężczyzn i kobiety, posortuj według rocznika\n",
    "\n",
    "Krok 4 – Transformacja danych i naprawa błędów\n",
    "pomijamy\n",
    "\n",
    "Krok 5 – Analiza relacji między kolumnami\n",
    "10. Narysuj macierz korelacji dla kolumn\n",
    "\n",
    "Krok 6 – Analiza wartości odstających \"outliers\"\n",
    "11. Narysuj boxplot dla 'Tempo', \"Tempo Stabilność', rozdziel ze względu na płeć\n",
    "12. Narysuj nałożone na siebie histogramy dla 'Tempo Stabilność', rozdziel ze względu na płeć"
   ]
  },
  {
   "cell_type": "code",
   "execution_count": null,
   "id": "b916a510-ebd8-478b-8aa1-80b5daffb5ca",
   "metadata": {},
   "outputs": [],
   "source": []
  }
 ],
 "metadata": {
  "kernelspec": {
   "display_name": "Python 3 (ipykernel)",
   "language": "python",
   "name": "python3"
  },
  "language_info": {
   "codemirror_mode": {
    "name": "ipython",
    "version": 3
   },
   "file_extension": ".py",
   "mimetype": "text/x-python",
   "name": "python",
   "nbconvert_exporter": "python",
   "pygments_lexer": "ipython3",
   "version": "3.11.10"
  }
 },
 "nbformat": 4,
 "nbformat_minor": 5
}
